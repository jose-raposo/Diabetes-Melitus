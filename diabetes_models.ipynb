{
  "nbformat": 4,
  "nbformat_minor": 0,
  "metadata": {
    "colab": {
      "name": "diabetes-models.ipynb",
      "provenance": [],
      "collapsed_sections": [
        "exH7ula-_x37",
        "KWGtXH3-Zf6M",
        "nXkd6hRQcJLY",
        "Jvch1iKBs0NS"
      ],
      "toc_visible": true
    },
    "kernelspec": {
      "name": "python3",
      "display_name": "Python 3"
    }
  },
  "cells": [
    {
      "cell_type": "markdown",
      "metadata": {
        "id": "exH7ula-_x37"
      },
      "source": [
        "# Predict the onset of diabetes based on diagnostic measures"
      ]
    },
    {
      "cell_type": "markdown",
      "metadata": {
        "id": "cu8h5UrSKru3"
      },
      "source": [
        "This dataset is originally from the National Institute of Diabetes and Digestive and Kidney Diseases. The objective of the dataset is to diagnostically predict whether or not a patient has diabetes, based on certain diagnostic measurements included in the dataset. Several constraints were placed on the selection of these instances from a larger database. In particular, all patients here are females at least 21 years old of Pima Indian heritage.\r\n",
        "\r\n",
        "Kaggle link: [Click here to access the Database](https://www.kaggle.com/uciml/pima-indians-diabetes-database)\r\n",
        "\r\n",
        "In this study I aim to use Support Vector Classifier Model with a Linear kernel to predict probabilities of developing diabetes in the future based in the measures below."
      ]
    },
    {
      "cell_type": "markdown",
      "metadata": {
        "id": "CvcIXEBWLbty"
      },
      "source": [
        "# Content\r\n",
        "The datasets consists of several medical predictor variables and one target variable, Outcome. Predictor variables includes the number of pregnancies the patient has had, their BMI, insulin level, age, and so on."
      ]
    },
    {
      "cell_type": "markdown",
      "metadata": {
        "id": "JjuGDMX4K6BN"
      },
      "source": [
        "# Acknowledgements\r\n",
        "Smith, J.W., Everhart, J.E., Dickson, W.C., Knowler, W.C., & Johannes, R.S. (1988). *Using the ADAP learning algorithm to forecast the onset of diabetes mellitus. In Proceedings of the Symposium on Computer Applications and Medical Care* (pp. 261--265). IEEE Computer Society Press."
      ]
    },
    {
      "cell_type": "markdown",
      "metadata": {
        "id": "EbB1a-eqT5QD"
      },
      "source": [
        "# 1. Data Loading"
      ]
    },
    {
      "cell_type": "markdown",
      "metadata": {
        "id": "oI2HjxE4Lk6m"
      },
      "source": [
        "Start importing usual libraries..."
      ]
    },
    {
      "cell_type": "code",
      "metadata": {
        "id": "g97b044yX8Sv"
      },
      "source": [
        "import pandas as pd\r\n",
        "import numpy as np\r\n",
        "import matplotlib.pyplot as plt\r\n",
        "import seaborn as sns\r\n",
        "import warnings\r\n",
        "\r\n",
        "%matplotlib inline\r\n",
        "warnings.filterwarnings('ignore')"
      ],
      "execution_count": null,
      "outputs": []
    },
    {
      "cell_type": "markdown",
      "metadata": {
        "id": "ORhORyekLtgj"
      },
      "source": [
        "Reading CSV dataset"
      ]
    },
    {
      "cell_type": "code",
      "metadata": {
        "colab": {
          "base_uri": "https://localhost:8080/",
          "height": 195
        },
        "id": "CZS3dKm6YEPh",
        "outputId": "99f39b51-0536-4cdb-b704-3d676c10ac14"
      },
      "source": [
        "df = pd.read_csv('diabetes.csv')\r\n",
        "df.head()"
      ],
      "execution_count": null,
      "outputs": [
        {
          "output_type": "execute_result",
          "data": {
            "text/html": [
              "<div>\n",
              "<style scoped>\n",
              "    .dataframe tbody tr th:only-of-type {\n",
              "        vertical-align: middle;\n",
              "    }\n",
              "\n",
              "    .dataframe tbody tr th {\n",
              "        vertical-align: top;\n",
              "    }\n",
              "\n",
              "    .dataframe thead th {\n",
              "        text-align: right;\n",
              "    }\n",
              "</style>\n",
              "<table border=\"1\" class=\"dataframe\">\n",
              "  <thead>\n",
              "    <tr style=\"text-align: right;\">\n",
              "      <th></th>\n",
              "      <th>Pregnancies</th>\n",
              "      <th>Glucose</th>\n",
              "      <th>BloodPressure</th>\n",
              "      <th>SkinThickness</th>\n",
              "      <th>Insulin</th>\n",
              "      <th>BMI</th>\n",
              "      <th>DiabetesPedigreeFunction</th>\n",
              "      <th>Age</th>\n",
              "      <th>Outcome</th>\n",
              "    </tr>\n",
              "  </thead>\n",
              "  <tbody>\n",
              "    <tr>\n",
              "      <th>0</th>\n",
              "      <td>6</td>\n",
              "      <td>148</td>\n",
              "      <td>72</td>\n",
              "      <td>35</td>\n",
              "      <td>0</td>\n",
              "      <td>33.6</td>\n",
              "      <td>0.627</td>\n",
              "      <td>50</td>\n",
              "      <td>1</td>\n",
              "    </tr>\n",
              "    <tr>\n",
              "      <th>1</th>\n",
              "      <td>1</td>\n",
              "      <td>85</td>\n",
              "      <td>66</td>\n",
              "      <td>29</td>\n",
              "      <td>0</td>\n",
              "      <td>26.6</td>\n",
              "      <td>0.351</td>\n",
              "      <td>31</td>\n",
              "      <td>0</td>\n",
              "    </tr>\n",
              "    <tr>\n",
              "      <th>2</th>\n",
              "      <td>8</td>\n",
              "      <td>183</td>\n",
              "      <td>64</td>\n",
              "      <td>0</td>\n",
              "      <td>0</td>\n",
              "      <td>23.3</td>\n",
              "      <td>0.672</td>\n",
              "      <td>32</td>\n",
              "      <td>1</td>\n",
              "    </tr>\n",
              "    <tr>\n",
              "      <th>3</th>\n",
              "      <td>1</td>\n",
              "      <td>89</td>\n",
              "      <td>66</td>\n",
              "      <td>23</td>\n",
              "      <td>94</td>\n",
              "      <td>28.1</td>\n",
              "      <td>0.167</td>\n",
              "      <td>21</td>\n",
              "      <td>0</td>\n",
              "    </tr>\n",
              "    <tr>\n",
              "      <th>4</th>\n",
              "      <td>0</td>\n",
              "      <td>137</td>\n",
              "      <td>40</td>\n",
              "      <td>35</td>\n",
              "      <td>168</td>\n",
              "      <td>43.1</td>\n",
              "      <td>2.288</td>\n",
              "      <td>33</td>\n",
              "      <td>1</td>\n",
              "    </tr>\n",
              "  </tbody>\n",
              "</table>\n",
              "</div>"
            ],
            "text/plain": [
              "   Pregnancies  Glucose  BloodPressure  ...  DiabetesPedigreeFunction  Age  Outcome\n",
              "0            6      148             72  ...                     0.627   50        1\n",
              "1            1       85             66  ...                     0.351   31        0\n",
              "2            8      183             64  ...                     0.672   32        1\n",
              "3            1       89             66  ...                     0.167   21        0\n",
              "4            0      137             40  ...                     2.288   33        1\n",
              "\n",
              "[5 rows x 9 columns]"
            ]
          },
          "metadata": {
            "tags": []
          },
          "execution_count": 523
        }
      ]
    },
    {
      "cell_type": "markdown",
      "metadata": {
        "id": "ldNghAxawFmJ"
      },
      "source": [
        "As we are not interested in use Pedigree Function, because it´s not a wide known used measure in Brazil, we will drop this variable\r\n"
      ]
    },
    {
      "cell_type": "code",
      "metadata": {
        "id": "Iaml115DwTdZ"
      },
      "source": [
        "del df['DiabetesPedigreeFunction']"
      ],
      "execution_count": null,
      "outputs": []
    },
    {
      "cell_type": "markdown",
      "metadata": {
        "id": "2I__5Np0tA_W"
      },
      "source": [
        "# 1.1 Exploratory Data Analysis"
      ]
    },
    {
      "cell_type": "markdown",
      "metadata": {
        "id": "gwL9Ns4bvKjl"
      },
      "source": [
        "By just looking at the head of the dataset one can clearly see that there´s a lot of zeros on variables. It would be quite impressive to have a patient alive with Blood Pressure = 0. And it would also be as impressive to see one with Insulin = 0. It indicates that even if the dataset does not contain Nan values, it does surely contain missing data"
      ]
    },
    {
      "cell_type": "code",
      "metadata": {
        "colab": {
          "base_uri": "https://localhost:8080/"
        },
        "id": "hNvFAKO1rOGh",
        "outputId": "a6eb0424-2225-44d9-80c6-638393996873"
      },
      "source": [
        "print ('Missing Blood Pressure values: ', len(df[df.BloodPressure == 0]))"
      ],
      "execution_count": null,
      "outputs": [
        {
          "output_type": "stream",
          "text": [
            "Missing Blood Pressure values:  35\n"
          ],
          "name": "stdout"
        }
      ]
    },
    {
      "cell_type": "code",
      "metadata": {
        "colab": {
          "base_uri": "https://localhost:8080/"
        },
        "id": "NNbCygyzrOoz",
        "outputId": "15bcd7bd-4f1c-4156-86cd-de76d976a415"
      },
      "source": [
        "print ('Missing Insulin values: ', len(df[df.Insulin == 0]))"
      ],
      "execution_count": null,
      "outputs": [
        {
          "output_type": "stream",
          "text": [
            "Missing Insulin values:  374\n"
          ],
          "name": "stdout"
        }
      ]
    },
    {
      "cell_type": "code",
      "metadata": {
        "colab": {
          "base_uri": "https://localhost:8080/"
        },
        "id": "py0oyf15yVH2",
        "outputId": "0eba650e-8ebc-4cdc-f90b-e514e837d762"
      },
      "source": [
        "print ('Missing Glucose values: ', len(df[df.Glucose == 0]))"
      ],
      "execution_count": null,
      "outputs": [
        {
          "output_type": "stream",
          "text": [
            "Missing Glucose values:  5\n"
          ],
          "name": "stdout"
        }
      ]
    },
    {
      "cell_type": "code",
      "metadata": {
        "colab": {
          "base_uri": "https://localhost:8080/"
        },
        "id": "8YVlkz1zyVUm",
        "outputId": "79e6613a-82e1-470f-88db-8c77da707ece"
      },
      "source": [
        "print ('Missing BMI values: ', len(df[df.BMI == 0]))"
      ],
      "execution_count": null,
      "outputs": [
        {
          "output_type": "stream",
          "text": [
            "Missing BMI values:  11\n"
          ],
          "name": "stdout"
        }
      ]
    },
    {
      "cell_type": "code",
      "metadata": {
        "colab": {
          "base_uri": "https://localhost:8080/"
        },
        "id": "E9LKh2o3yVlJ",
        "outputId": "1349e877-c018-4386-db0e-1624c4d2be2d"
      },
      "source": [
        "print ('Missing SkinThickness values: ', len(df[df.SkinThickness == 0]))"
      ],
      "execution_count": null,
      "outputs": [
        {
          "output_type": "stream",
          "text": [
            "Missing SkinThickness values:  227\n"
          ],
          "name": "stdout"
        }
      ]
    },
    {
      "cell_type": "markdown",
      "metadata": {
        "id": "92ihsbFEwhjs"
      },
      "source": [
        "# 1.2 Data Imputation"
      ]
    },
    {
      "cell_type": "markdown",
      "metadata": {
        "id": "EbXdIOzvxEiJ"
      },
      "source": [
        "Let´s imput the missing values for crucial variables on the dataset. Starting with Blood Pressure, I´ll impute zero samples using the mean of the Blood Pressure"
      ]
    },
    {
      "cell_type": "code",
      "metadata": {
        "id": "sCX2ecnHvqhV"
      },
      "source": [
        "df1 = df[df.Outcome == 1] \r\n",
        "df2 = df[df.Outcome == 0]"
      ],
      "execution_count": null,
      "outputs": []
    },
    {
      "cell_type": "code",
      "metadata": {
        "id": "KZiJu1vrvqsc"
      },
      "source": [
        "df1 = df1.replace({'BloodPressure': 0}, np.mean(df1['BloodPressure']))\r\n",
        "df2 = df2.replace({'BloodPressure': 0}, np.mean(df2['BloodPressure']))"
      ],
      "execution_count": null,
      "outputs": []
    },
    {
      "cell_type": "code",
      "metadata": {
        "colab": {
          "base_uri": "https://localhost:8080/",
          "height": 195
        },
        "id": "acvTGkcEvq2Y",
        "outputId": "432f8311-dea3-4a1c-b0fb-1ed469686513"
      },
      "source": [
        "dataset = [df1, df2]\r\n",
        "df = pd.concat(dataset)\r\n",
        "df.head()"
      ],
      "execution_count": null,
      "outputs": [
        {
          "output_type": "execute_result",
          "data": {
            "text/html": [
              "<div>\n",
              "<style scoped>\n",
              "    .dataframe tbody tr th:only-of-type {\n",
              "        vertical-align: middle;\n",
              "    }\n",
              "\n",
              "    .dataframe tbody tr th {\n",
              "        vertical-align: top;\n",
              "    }\n",
              "\n",
              "    .dataframe thead th {\n",
              "        text-align: right;\n",
              "    }\n",
              "</style>\n",
              "<table border=\"1\" class=\"dataframe\">\n",
              "  <thead>\n",
              "    <tr style=\"text-align: right;\">\n",
              "      <th></th>\n",
              "      <th>Pregnancies</th>\n",
              "      <th>Glucose</th>\n",
              "      <th>BloodPressure</th>\n",
              "      <th>SkinThickness</th>\n",
              "      <th>Insulin</th>\n",
              "      <th>BMI</th>\n",
              "      <th>Age</th>\n",
              "      <th>Outcome</th>\n",
              "    </tr>\n",
              "  </thead>\n",
              "  <tbody>\n",
              "    <tr>\n",
              "      <th>0</th>\n",
              "      <td>6</td>\n",
              "      <td>148</td>\n",
              "      <td>72.0</td>\n",
              "      <td>35</td>\n",
              "      <td>100.335821</td>\n",
              "      <td>33.6</td>\n",
              "      <td>50</td>\n",
              "      <td>1</td>\n",
              "    </tr>\n",
              "    <tr>\n",
              "      <th>2</th>\n",
              "      <td>8</td>\n",
              "      <td>183</td>\n",
              "      <td>64.0</td>\n",
              "      <td>0</td>\n",
              "      <td>100.335821</td>\n",
              "      <td>23.3</td>\n",
              "      <td>32</td>\n",
              "      <td>1</td>\n",
              "    </tr>\n",
              "    <tr>\n",
              "      <th>4</th>\n",
              "      <td>0</td>\n",
              "      <td>137</td>\n",
              "      <td>40.0</td>\n",
              "      <td>35</td>\n",
              "      <td>168.000000</td>\n",
              "      <td>43.1</td>\n",
              "      <td>33</td>\n",
              "      <td>1</td>\n",
              "    </tr>\n",
              "    <tr>\n",
              "      <th>6</th>\n",
              "      <td>3</td>\n",
              "      <td>78</td>\n",
              "      <td>50.0</td>\n",
              "      <td>32</td>\n",
              "      <td>88.000000</td>\n",
              "      <td>31.0</td>\n",
              "      <td>26</td>\n",
              "      <td>1</td>\n",
              "    </tr>\n",
              "    <tr>\n",
              "      <th>8</th>\n",
              "      <td>2</td>\n",
              "      <td>197</td>\n",
              "      <td>70.0</td>\n",
              "      <td>45</td>\n",
              "      <td>543.000000</td>\n",
              "      <td>30.5</td>\n",
              "      <td>53</td>\n",
              "      <td>1</td>\n",
              "    </tr>\n",
              "  </tbody>\n",
              "</table>\n",
              "</div>"
            ],
            "text/plain": [
              "   Pregnancies  Glucose  BloodPressure  ...   BMI  Age  Outcome\n",
              "0            6      148           72.0  ...  33.6   50        1\n",
              "2            8      183           64.0  ...  23.3   32        1\n",
              "4            0      137           40.0  ...  43.1   33        1\n",
              "6            3       78           50.0  ...  31.0   26        1\n",
              "8            2      197           70.0  ...  30.5   53        1\n",
              "\n",
              "[5 rows x 8 columns]"
            ]
          },
          "metadata": {
            "tags": []
          },
          "execution_count": 548
        }
      ]
    },
    {
      "cell_type": "markdown",
      "metadata": {
        "id": "yznreCkWyAVF"
      },
      "source": [
        "The same proccess to Insulin..."
      ]
    },
    {
      "cell_type": "code",
      "metadata": {
        "id": "tL1sDGQgx9Vn"
      },
      "source": [
        "df1 = df[df.Outcome == 1] \r\n",
        "df2 = df[df.Outcome == 0]\r\n",
        "\r\n",
        "df1 = df1.replace({'Insulin': 0}, np.mean(df1['Insulin']))\r\n",
        "df2 = df2.replace({'Insulin': 0}, np.mean(df2['Insulin']))"
      ],
      "execution_count": null,
      "outputs": []
    },
    {
      "cell_type": "code",
      "metadata": {
        "colab": {
          "base_uri": "https://localhost:8080/",
          "height": 195
        },
        "id": "k9VzPCaPx-EV",
        "outputId": "add33cf6-37d9-47fd-8e1c-d55af66018d4"
      },
      "source": [
        "dataset = [df1, df2]\r\n",
        "df = pd.concat(dataset)\r\n",
        "df.head()"
      ],
      "execution_count": null,
      "outputs": [
        {
          "output_type": "execute_result",
          "data": {
            "text/html": [
              "<div>\n",
              "<style scoped>\n",
              "    .dataframe tbody tr th:only-of-type {\n",
              "        vertical-align: middle;\n",
              "    }\n",
              "\n",
              "    .dataframe tbody tr th {\n",
              "        vertical-align: top;\n",
              "    }\n",
              "\n",
              "    .dataframe thead th {\n",
              "        text-align: right;\n",
              "    }\n",
              "</style>\n",
              "<table border=\"1\" class=\"dataframe\">\n",
              "  <thead>\n",
              "    <tr style=\"text-align: right;\">\n",
              "      <th></th>\n",
              "      <th>Pregnancies</th>\n",
              "      <th>Glucose</th>\n",
              "      <th>BloodPressure</th>\n",
              "      <th>SkinThickness</th>\n",
              "      <th>Insulin</th>\n",
              "      <th>BMI</th>\n",
              "      <th>Age</th>\n",
              "      <th>Outcome</th>\n",
              "    </tr>\n",
              "  </thead>\n",
              "  <tbody>\n",
              "    <tr>\n",
              "      <th>0</th>\n",
              "      <td>6</td>\n",
              "      <td>148</td>\n",
              "      <td>72.0</td>\n",
              "      <td>35</td>\n",
              "      <td>100.335821</td>\n",
              "      <td>33.6</td>\n",
              "      <td>50</td>\n",
              "      <td>1</td>\n",
              "    </tr>\n",
              "    <tr>\n",
              "      <th>2</th>\n",
              "      <td>8</td>\n",
              "      <td>183</td>\n",
              "      <td>64.0</td>\n",
              "      <td>0</td>\n",
              "      <td>100.335821</td>\n",
              "      <td>23.3</td>\n",
              "      <td>32</td>\n",
              "      <td>1</td>\n",
              "    </tr>\n",
              "    <tr>\n",
              "      <th>4</th>\n",
              "      <td>0</td>\n",
              "      <td>137</td>\n",
              "      <td>40.0</td>\n",
              "      <td>35</td>\n",
              "      <td>168.000000</td>\n",
              "      <td>43.1</td>\n",
              "      <td>33</td>\n",
              "      <td>1</td>\n",
              "    </tr>\n",
              "    <tr>\n",
              "      <th>6</th>\n",
              "      <td>3</td>\n",
              "      <td>78</td>\n",
              "      <td>50.0</td>\n",
              "      <td>32</td>\n",
              "      <td>88.000000</td>\n",
              "      <td>31.0</td>\n",
              "      <td>26</td>\n",
              "      <td>1</td>\n",
              "    </tr>\n",
              "    <tr>\n",
              "      <th>8</th>\n",
              "      <td>2</td>\n",
              "      <td>197</td>\n",
              "      <td>70.0</td>\n",
              "      <td>45</td>\n",
              "      <td>543.000000</td>\n",
              "      <td>30.5</td>\n",
              "      <td>53</td>\n",
              "      <td>1</td>\n",
              "    </tr>\n",
              "  </tbody>\n",
              "</table>\n",
              "</div>"
            ],
            "text/plain": [
              "   Pregnancies  Glucose  BloodPressure  ...   BMI  Age  Outcome\n",
              "0            6      148           72.0  ...  33.6   50        1\n",
              "2            8      183           64.0  ...  23.3   32        1\n",
              "4            0      137           40.0  ...  43.1   33        1\n",
              "6            3       78           50.0  ...  31.0   26        1\n",
              "8            2      197           70.0  ...  30.5   53        1\n",
              "\n",
              "[5 rows x 8 columns]"
            ]
          },
          "metadata": {
            "tags": []
          },
          "execution_count": 550
        }
      ]
    },
    {
      "cell_type": "markdown",
      "metadata": {
        "id": "NCP3GUyMynv-"
      },
      "source": [
        "Now for SkinThickness, BMI and Glucose..."
      ]
    },
    {
      "cell_type": "code",
      "metadata": {
        "colab": {
          "base_uri": "https://localhost:8080/",
          "height": 195
        },
        "id": "MdVKKzHRx-QS",
        "outputId": "0af5b758-4e48-4930-9bb5-13581bb733ae"
      },
      "source": [
        "# SkinThickness imputing...\r\n",
        "df1 = df[df.Outcome == 1] \r\n",
        "df2 = df[df.Outcome == 0]\r\n",
        "\r\n",
        "df1 = df1.replace({'SkinThickness': 0}, np.mean(df1['SkinThickness']))\r\n",
        "df2 = df2.replace({'SkinThickness': 0}, np.mean(df2['SkinThickness']))\r\n",
        "\r\n",
        "dataset = [df1, df2]\r\n",
        "df = pd.concat(dataset)\r\n",
        "\r\n",
        "# BMI imputing...\r\n",
        "df1 = df[df.Outcome == 1] \r\n",
        "df2 = df[df.Outcome == 0]\r\n",
        "\r\n",
        "df1 = df1.replace({'BMI': 0}, np.mean(df1['BMI']))\r\n",
        "df2 = df2.replace({'BMI': 0}, np.mean(df2['BMI']))\r\n",
        "\r\n",
        "dataset = [df1, df2]\r\n",
        "df = pd.concat(dataset)\r\n",
        "\r\n",
        "# Finally, Glucose imputing...\r\n",
        "df1 = df[df.Outcome == 1] \r\n",
        "df2 = df[df.Outcome == 0]\r\n",
        "\r\n",
        "df1 = df1.replace({'Glucose': 0}, np.mean(df1['Glucose']))\r\n",
        "df2 = df2.replace({'Glucose': 0}, np.mean(df2['Glucose']))\r\n",
        "\r\n",
        "dataset = [df1, df2]\r\n",
        "df = pd.concat(dataset)\r\n",
        "df.head()"
      ],
      "execution_count": null,
      "outputs": [
        {
          "output_type": "execute_result",
          "data": {
            "text/html": [
              "<div>\n",
              "<style scoped>\n",
              "    .dataframe tbody tr th:only-of-type {\n",
              "        vertical-align: middle;\n",
              "    }\n",
              "\n",
              "    .dataframe tbody tr th {\n",
              "        vertical-align: top;\n",
              "    }\n",
              "\n",
              "    .dataframe thead th {\n",
              "        text-align: right;\n",
              "    }\n",
              "</style>\n",
              "<table border=\"1\" class=\"dataframe\">\n",
              "  <thead>\n",
              "    <tr style=\"text-align: right;\">\n",
              "      <th></th>\n",
              "      <th>Pregnancies</th>\n",
              "      <th>Glucose</th>\n",
              "      <th>BloodPressure</th>\n",
              "      <th>SkinThickness</th>\n",
              "      <th>Insulin</th>\n",
              "      <th>BMI</th>\n",
              "      <th>Age</th>\n",
              "      <th>Outcome</th>\n",
              "    </tr>\n",
              "  </thead>\n",
              "  <tbody>\n",
              "    <tr>\n",
              "      <th>0</th>\n",
              "      <td>6</td>\n",
              "      <td>148.0</td>\n",
              "      <td>72.0</td>\n",
              "      <td>35.000000</td>\n",
              "      <td>100.335821</td>\n",
              "      <td>33.6</td>\n",
              "      <td>50</td>\n",
              "      <td>1</td>\n",
              "    </tr>\n",
              "    <tr>\n",
              "      <th>2</th>\n",
              "      <td>8</td>\n",
              "      <td>183.0</td>\n",
              "      <td>64.0</td>\n",
              "      <td>22.164179</td>\n",
              "      <td>100.335821</td>\n",
              "      <td>23.3</td>\n",
              "      <td>32</td>\n",
              "      <td>1</td>\n",
              "    </tr>\n",
              "    <tr>\n",
              "      <th>4</th>\n",
              "      <td>0</td>\n",
              "      <td>137.0</td>\n",
              "      <td>40.0</td>\n",
              "      <td>35.000000</td>\n",
              "      <td>168.000000</td>\n",
              "      <td>43.1</td>\n",
              "      <td>33</td>\n",
              "      <td>1</td>\n",
              "    </tr>\n",
              "    <tr>\n",
              "      <th>6</th>\n",
              "      <td>3</td>\n",
              "      <td>78.0</td>\n",
              "      <td>50.0</td>\n",
              "      <td>32.000000</td>\n",
              "      <td>88.000000</td>\n",
              "      <td>31.0</td>\n",
              "      <td>26</td>\n",
              "      <td>1</td>\n",
              "    </tr>\n",
              "    <tr>\n",
              "      <th>8</th>\n",
              "      <td>2</td>\n",
              "      <td>197.0</td>\n",
              "      <td>70.0</td>\n",
              "      <td>45.000000</td>\n",
              "      <td>543.000000</td>\n",
              "      <td>30.5</td>\n",
              "      <td>53</td>\n",
              "      <td>1</td>\n",
              "    </tr>\n",
              "  </tbody>\n",
              "</table>\n",
              "</div>"
            ],
            "text/plain": [
              "   Pregnancies  Glucose  BloodPressure  ...   BMI  Age  Outcome\n",
              "0            6    148.0           72.0  ...  33.6   50        1\n",
              "2            8    183.0           64.0  ...  23.3   32        1\n",
              "4            0    137.0           40.0  ...  43.1   33        1\n",
              "6            3     78.0           50.0  ...  31.0   26        1\n",
              "8            2    197.0           70.0  ...  30.5   53        1\n",
              "\n",
              "[5 rows x 8 columns]"
            ]
          },
          "metadata": {
            "tags": []
          },
          "execution_count": 551
        }
      ]
    },
    {
      "cell_type": "code",
      "metadata": {
        "colab": {
          "base_uri": "https://localhost:8080/"
        },
        "id": "-_I0r8THx-an",
        "outputId": "e854233b-0b23-4f93-fb4e-d0bb03f4e829"
      },
      "source": [
        "print ('Missing Blood Pressure values: ', len(df[df.BloodPressure == 0]))\r\n",
        "print ('Missing Insulin values: ', len(df[df.Insulin == 0]))\r\n",
        "print ('Missing Glucose values: ', len(df[df.Glucose == 0]))\r\n",
        "print ('Missing BMI values: ', len(df[df.BMI == 0]))\r\n",
        "print ('Missing SkinThickness values: ', len(df[df.SkinThickness == 0]))"
      ],
      "execution_count": null,
      "outputs": [
        {
          "output_type": "stream",
          "text": [
            "Missing Blood Pressure values:  0\n",
            "Missing Insulin values:  0\n",
            "Missing Glucose values:  0\n",
            "Missing BMI values:  0\n",
            "Missing SkinThickness values:  0\n"
          ],
          "name": "stdout"
        }
      ]
    },
    {
      "cell_type": "markdown",
      "metadata": {
        "id": "n4Gcrsudzq2R"
      },
      "source": [
        "<b>Hard Work done!</b>"
      ]
    },
    {
      "cell_type": "markdown",
      "metadata": {
        "id": "mE5Gr2OwT_kK"
      },
      "source": [
        "# 2. Exploratory Data Analysis on Outcome\r\n",
        "Despite all the EDA done before, It´s relevant to check if the target is imbalanced"
      ]
    },
    {
      "cell_type": "code",
      "metadata": {
        "colab": {
          "base_uri": "https://localhost:8080/",
          "height": 337
        },
        "id": "3XXK23JDYQr1",
        "outputId": "107a59cc-911f-46e0-b9c7-d2ff5c2798d6"
      },
      "source": [
        "plt.figure(figsize=(12,5))\r\n",
        "sns.countplot(df.Outcome);"
      ],
      "execution_count": null,
      "outputs": [
        {
          "output_type": "display_data",
          "data": {
            "image/png": "[encoded data removed]",
            "text/plain": [
              "<Figure size 864x360 with 1 Axes>"
            ]
          },
          "metadata": {
            "tags": [],
            "needs_background": "light"
          }
        }
      ]
    },
    {
      "cell_type": "markdown",
      "metadata": {
        "id": "oJ0mQbk5VmZr"
      },
      "source": [
        "# 3. Resampling Dataset"
      ]
    },
    {
      "cell_type": "markdown",
      "metadata": {
        "id": "tGFE-ligMP_C"
      },
      "source": [
        "As seen above, we´ve an imbalanced dataset, thus, we must preprocess Outcome target variable before stressing any Machine Learning model on it. We can use a bunch of different techniques of <b>Oversampling and Undersampling</b> to solve imbalance:\r\n",
        "\r\n",
        "\r\n",
        "1.   Undersampling the majority Outcome\r\n",
        "2.   Random Oversampling minority class\r\n",
        "3.   <b>SMOTE</b> - *Synthetic Minority Oversampling Technique*\r\n",
        "\r\n",
        "For this special case, as the dataset is pretty small, I choose SMOTE method to oversample the minority target.\r\n",
        "\r\n",
        "\r\n",
        "\r\n"
      ]
    },
    {
      "cell_type": "markdown",
      "metadata": {
        "id": "ixY6jL4bM_6X"
      },
      "source": [
        "Before that, let´s really confirm the amount of imbalance present in this dataset. "
      ]
    },
    {
      "cell_type": "code",
      "metadata": {
        "id": "nVr7TjInYVJB"
      },
      "source": [
        "positive = df[df.Outcome == 1]\r\n",
        "negative = df[df.Outcome == 0]"
      ],
      "execution_count": null,
      "outputs": []
    },
    {
      "cell_type": "code",
      "metadata": {
        "colab": {
          "base_uri": "https://localhost:8080/"
        },
        "id": "81dqrGtVYgv-",
        "outputId": "7d17f9c0-218c-4fe2-f504-10fdbc277ddf"
      },
      "source": [
        "print ('Negative proportion:', len(negative)/len(df)*100, '%')\r\n",
        "print ('Positive proportion:', len(positive)/len(df)*100, '%')"
      ],
      "execution_count": null,
      "outputs": [
        {
          "output_type": "stream",
          "text": [
            "Negative proportion: 65.10416666666666 %\n",
            "Positive proportion: 34.89583333333333 %\n"
          ],
          "name": "stdout"
        }
      ]
    },
    {
      "cell_type": "markdown",
      "metadata": {
        "id": "26fq-I2vVr_w"
      },
      "source": [
        "# 4. Splitting Dataset into training and test sets"
      ]
    },
    {
      "cell_type": "markdown",
      "metadata": {
        "id": "IJZ6c1NGNHdq"
      },
      "source": [
        "From the above proportions, the dataset is undoubtedly imbalanced. Let´s apply SMOTE method"
      ]
    },
    {
      "cell_type": "code",
      "metadata": {
        "id": "eemPYNrcYvlU"
      },
      "source": [
        "from sklearn.model_selection import train_test_split as tts"
      ],
      "execution_count": null,
      "outputs": []
    },
    {
      "cell_type": "markdown",
      "metadata": {
        "id": "nKigkZJjNUnV"
      },
      "source": [
        "We must always split the dataset onto train and test sets even before we resample with any method described before. That´s because we only want to train the model with an equal-proportion target variable. With the validation and test sets, the model must be able to identify correctly between the two classes instead of being imbalanced or not."
      ]
    },
    {
      "cell_type": "code",
      "metadata": {
        "id": "_3hid_h5Y2HR"
      },
      "source": [
        "X_train, X_test, y_train, y_test = tts(df.drop('Outcome', axis = 1), df.Outcome, test_size=.1, random_state=101)"
      ],
      "execution_count": null,
      "outputs": []
    },
    {
      "cell_type": "markdown",
      "metadata": {
        "id": "fbJpHIbzV5Ja"
      },
      "source": [
        "# 5. Applying SMOTE Method on Training Set"
      ]
    },
    {
      "cell_type": "markdown",
      "metadata": {
        "id": "P0ylnnBoNyfG"
      },
      "source": [
        "After splitting, we´re able to resample the training set in a way that using SMOTE technique, the result will be a dataset with equal proportion of 1 and 0 Outcomes"
      ]
    },
    {
      "cell_type": "code",
      "metadata": {
        "id": "urGHn02XZLxK"
      },
      "source": [
        "from imblearn.combine import SMOTETomek\r\n",
        "smk = SMOTETomek(random_state=42, ratio = 1.0)"
      ],
      "execution_count": null,
      "outputs": []
    },
    {
      "cell_type": "code",
      "metadata": {
        "id": "i-8eheF7ZPnT"
      },
      "source": [
        "X_res, y_res = smk.fit_sample(X_train, y_train)"
      ],
      "execution_count": null,
      "outputs": []
    },
    {
      "cell_type": "markdown",
      "metadata": {
        "id": "nWTOzieAOGpj"
      },
      "source": [
        "Now I´m going to convert X_resampled in a dataframe to ensure that we did not get any error during resampling process..."
      ]
    },
    {
      "cell_type": "code",
      "metadata": {
        "colab": {
          "base_uri": "https://localhost:8080/",
          "height": 195
        },
        "id": "LtvApaNzZYPe",
        "outputId": "93016cb4-fd91-4e5a-b525-7555fbecabbd"
      },
      "source": [
        "X_res = pd.DataFrame(X_res, columns = ['Pregnancies', 'Glucose', 'BloodPressure', 'SkinThickness', 'Insulin',\r\n",
        "       'BMI', 'Age'])\r\n",
        "X_res.head()"
      ],
      "execution_count": null,
      "outputs": [
        {
          "output_type": "execute_result",
          "data": {
            "text/html": [
              "<div>\n",
              "<style scoped>\n",
              "    .dataframe tbody tr th:only-of-type {\n",
              "        vertical-align: middle;\n",
              "    }\n",
              "\n",
              "    .dataframe tbody tr th {\n",
              "        vertical-align: top;\n",
              "    }\n",
              "\n",
              "    .dataframe thead th {\n",
              "        text-align: right;\n",
              "    }\n",
              "</style>\n",
              "<table border=\"1\" class=\"dataframe\">\n",
              "  <thead>\n",
              "    <tr style=\"text-align: right;\">\n",
              "      <th></th>\n",
              "      <th>Pregnancies</th>\n",
              "      <th>Glucose</th>\n",
              "      <th>BloodPressure</th>\n",
              "      <th>SkinThickness</th>\n",
              "      <th>Insulin</th>\n",
              "      <th>BMI</th>\n",
              "      <th>Age</th>\n",
              "    </tr>\n",
              "  </thead>\n",
              "  <tbody>\n",
              "    <tr>\n",
              "      <th>0</th>\n",
              "      <td>3.0</td>\n",
              "      <td>125.0</td>\n",
              "      <td>58.0</td>\n",
              "      <td>19.664000</td>\n",
              "      <td>68.792000</td>\n",
              "      <td>31.6</td>\n",
              "      <td>24.0</td>\n",
              "    </tr>\n",
              "    <tr>\n",
              "      <th>1</th>\n",
              "      <td>4.0</td>\n",
              "      <td>148.0</td>\n",
              "      <td>60.0</td>\n",
              "      <td>27.000000</td>\n",
              "      <td>318.000000</td>\n",
              "      <td>30.9</td>\n",
              "      <td>29.0</td>\n",
              "    </tr>\n",
              "    <tr>\n",
              "      <th>2</th>\n",
              "      <td>5.0</td>\n",
              "      <td>144.0</td>\n",
              "      <td>82.0</td>\n",
              "      <td>26.000000</td>\n",
              "      <td>285.000000</td>\n",
              "      <td>32.0</td>\n",
              "      <td>58.0</td>\n",
              "    </tr>\n",
              "    <tr>\n",
              "      <th>3</th>\n",
              "      <td>5.0</td>\n",
              "      <td>88.0</td>\n",
              "      <td>66.0</td>\n",
              "      <td>21.000000</td>\n",
              "      <td>23.000000</td>\n",
              "      <td>24.4</td>\n",
              "      <td>30.0</td>\n",
              "    </tr>\n",
              "    <tr>\n",
              "      <th>4</th>\n",
              "      <td>8.0</td>\n",
              "      <td>133.0</td>\n",
              "      <td>72.0</td>\n",
              "      <td>22.164179</td>\n",
              "      <td>100.335821</td>\n",
              "      <td>32.9</td>\n",
              "      <td>39.0</td>\n",
              "    </tr>\n",
              "  </tbody>\n",
              "</table>\n",
              "</div>"
            ],
            "text/plain": [
              "   Pregnancies  Glucose  BloodPressure  SkinThickness     Insulin   BMI   Age\n",
              "0          3.0    125.0           58.0      19.664000   68.792000  31.6  24.0\n",
              "1          4.0    148.0           60.0      27.000000  318.000000  30.9  29.0\n",
              "2          5.0    144.0           82.0      26.000000  285.000000  32.0  58.0\n",
              "3          5.0     88.0           66.0      21.000000   23.000000  24.4  30.0\n",
              "4          8.0    133.0           72.0      22.164179  100.335821  32.9  39.0"
            ]
          },
          "metadata": {
            "tags": []
          },
          "execution_count": 561
        }
      ]
    },
    {
      "cell_type": "markdown",
      "metadata": {
        "id": "AbVO83-_OUMC"
      },
      "source": [
        "Analogous with y training resampled dataset..."
      ]
    },
    {
      "cell_type": "code",
      "metadata": {
        "colab": {
          "base_uri": "https://localhost:8080/",
          "height": 195
        },
        "id": "d_yZ57D5Zi09",
        "outputId": "c287cd82-5fae-4ef7-a3fe-6a8936fdc996"
      },
      "source": [
        "y_res = pd.DataFrame(y_res, columns = ['Outcome'])\r\n",
        "y_res.head()"
      ],
      "execution_count": null,
      "outputs": [
        {
          "output_type": "execute_result",
          "data": {
            "text/html": [
              "<div>\n",
              "<style scoped>\n",
              "    .dataframe tbody tr th:only-of-type {\n",
              "        vertical-align: middle;\n",
              "    }\n",
              "\n",
              "    .dataframe tbody tr th {\n",
              "        vertical-align: top;\n",
              "    }\n",
              "\n",
              "    .dataframe thead th {\n",
              "        text-align: right;\n",
              "    }\n",
              "</style>\n",
              "<table border=\"1\" class=\"dataframe\">\n",
              "  <thead>\n",
              "    <tr style=\"text-align: right;\">\n",
              "      <th></th>\n",
              "      <th>Outcome</th>\n",
              "    </tr>\n",
              "  </thead>\n",
              "  <tbody>\n",
              "    <tr>\n",
              "      <th>0</th>\n",
              "      <td>0</td>\n",
              "    </tr>\n",
              "    <tr>\n",
              "      <th>1</th>\n",
              "      <td>1</td>\n",
              "    </tr>\n",
              "    <tr>\n",
              "      <th>2</th>\n",
              "      <td>1</td>\n",
              "    </tr>\n",
              "    <tr>\n",
              "      <th>3</th>\n",
              "      <td>0</td>\n",
              "    </tr>\n",
              "    <tr>\n",
              "      <th>4</th>\n",
              "      <td>1</td>\n",
              "    </tr>\n",
              "  </tbody>\n",
              "</table>\n",
              "</div>"
            ],
            "text/plain": [
              "   Outcome\n",
              "0        0\n",
              "1        1\n",
              "2        1\n",
              "3        0\n",
              "4        1"
            ]
          },
          "metadata": {
            "tags": []
          },
          "execution_count": 562
        }
      ]
    },
    {
      "cell_type": "markdown",
      "metadata": {
        "id": "bvT44gBIPAUY"
      },
      "source": [
        "Let´s check below the proportion of values after resampling the training set."
      ]
    },
    {
      "cell_type": "code",
      "metadata": {
        "colab": {
          "base_uri": "https://localhost:8080/",
          "height": 370
        },
        "id": "Uj3G3vmYZlWe",
        "outputId": "8ec8ceca-ccba-42d2-92d3-494d1e2df329"
      },
      "source": [
        "print ('Outcome = 1 proportion:',int(y_res.sum()/len(y_res)*100),'%')\r\n",
        "print('-'*50)\r\n",
        "plt.figure(figsize=(12,5))\r\n",
        "sns.countplot(y_res.Outcome);"
      ],
      "execution_count": null,
      "outputs": [
        {
          "output_type": "stream",
          "text": [
            "Outcome = 1 proportion: 50 %\n",
            "--------------------------------------------------\n"
          ],
          "name": "stdout"
        },
        {
          "output_type": "display_data",
          "data": {
            "image/png": "[encoded data removed]",
            "text/plain": [
              "<Figure size 864x360 with 1 Axes>"
            ]
          },
          "metadata": {
            "tags": [],
            "needs_background": "light"
          }
        }
      ]
    },
    {
      "cell_type": "markdown",
      "metadata": {
        "id": "izo2mpxTWLIE"
      },
      "source": [
        "# 6. Standardizing Inputs"
      ]
    },
    {
      "cell_type": "markdown",
      "metadata": {
        "id": "cOhIabfkPJCW"
      },
      "source": [
        "We´ll also need to take note of independent variables. As they´re in different ranges of values, we must standardize then. Thus, we ensure that our model will work correctly."
      ]
    },
    {
      "cell_type": "code",
      "metadata": {
        "id": "mKe3w1cYZwYK"
      },
      "source": [
        "from sklearn.preprocessing import StandardScaler"
      ],
      "execution_count": null,
      "outputs": []
    },
    {
      "cell_type": "code",
      "metadata": {
        "id": "FeJnj2ZKaKxx"
      },
      "source": [
        "std = StandardScaler()\r\n",
        "\r\n",
        "std.fit(X_res)\r\n",
        "X_std = std.transform(X_res)\r\n",
        "X_test_std = std.transform(X_test)"
      ],
      "execution_count": null,
      "outputs": []
    },
    {
      "cell_type": "markdown",
      "metadata": {
        "id": "MPZF_xaU_u4b"
      },
      "source": [
        "Let´s check the results...\r\n",
        "\r\n"
      ]
    },
    {
      "cell_type": "code",
      "metadata": {
        "colab": {
          "base_uri": "https://localhost:8080/",
          "height": 402
        },
        "id": "5oEbsysCjKvm",
        "outputId": "66cbb7c3-0573-4715-e5e0-c391b6abb10e"
      },
      "source": [
        "pd.DataFrame(X_std, columns = df.columns[:-1])"
      ],
      "execution_count": null,
      "outputs": [
        {
          "output_type": "execute_result",
          "data": {
            "text/html": [
              "<div>\n",
              "<style scoped>\n",
              "    .dataframe tbody tr th:only-of-type {\n",
              "        vertical-align: middle;\n",
              "    }\n",
              "\n",
              "    .dataframe tbody tr th {\n",
              "        vertical-align: top;\n",
              "    }\n",
              "\n",
              "    .dataframe thead th {\n",
              "        text-align: right;\n",
              "    }\n",
              "</style>\n",
              "<table border=\"1\" class=\"dataframe\">\n",
              "  <thead>\n",
              "    <tr style=\"text-align: right;\">\n",
              "      <th></th>\n",
              "      <th>Pregnancies</th>\n",
              "      <th>Glucose</th>\n",
              "      <th>BloodPressure</th>\n",
              "      <th>SkinThickness</th>\n",
              "      <th>Insulin</th>\n",
              "      <th>BMI</th>\n",
              "      <th>Age</th>\n",
              "    </tr>\n",
              "  </thead>\n",
              "  <tbody>\n",
              "    <tr>\n",
              "      <th>0</th>\n",
              "      <td>-0.339089</td>\n",
              "      <td>-0.064669</td>\n",
              "      <td>-1.297049</td>\n",
              "      <td>-0.763826</td>\n",
              "      <td>-0.601447</td>\n",
              "      <td>-0.237273</td>\n",
              "      <td>-0.889283</td>\n",
              "    </tr>\n",
              "    <tr>\n",
              "      <th>1</th>\n",
              "      <td>-0.036805</td>\n",
              "      <td>0.667986</td>\n",
              "      <td>-1.125413</td>\n",
              "      <td>0.015850</td>\n",
              "      <td>2.206905</td>\n",
              "      <td>-0.341270</td>\n",
              "      <td>-0.440616</td>\n",
              "    </tr>\n",
              "    <tr>\n",
              "      <th>2</th>\n",
              "      <td>0.265478</td>\n",
              "      <td>0.540568</td>\n",
              "      <td>0.762589</td>\n",
              "      <td>-0.090431</td>\n",
              "      <td>1.835025</td>\n",
              "      <td>-0.177845</td>\n",
              "      <td>2.161651</td>\n",
              "    </tr>\n",
              "    <tr>\n",
              "      <th>3</th>\n",
              "      <td>0.265478</td>\n",
              "      <td>-1.243288</td>\n",
              "      <td>-0.610503</td>\n",
              "      <td>-0.621835</td>\n",
              "      <td>-1.117482</td>\n",
              "      <td>-1.306960</td>\n",
              "      <td>-0.350883</td>\n",
              "    </tr>\n",
              "    <tr>\n",
              "      <th>4</th>\n",
              "      <td>1.172330</td>\n",
              "      <td>0.190168</td>\n",
              "      <td>-0.095594</td>\n",
              "      <td>-0.498105</td>\n",
              "      <td>-0.245976</td>\n",
              "      <td>-0.044134</td>\n",
              "      <td>0.456717</td>\n",
              "    </tr>\n",
              "    <tr>\n",
              "      <th>...</th>\n",
              "      <td>...</td>\n",
              "      <td>...</td>\n",
              "      <td>...</td>\n",
              "      <td>...</td>\n",
              "      <td>...</td>\n",
              "      <td>...</td>\n",
              "      <td>...</td>\n",
              "    </tr>\n",
              "    <tr>\n",
              "      <th>875</th>\n",
              "      <td>0.781676</td>\n",
              "      <td>1.901002</td>\n",
              "      <td>-0.355239</td>\n",
              "      <td>1.291220</td>\n",
              "      <td>2.019488</td>\n",
              "      <td>0.658856</td>\n",
              "      <td>0.548741</td>\n",
              "    </tr>\n",
              "    <tr>\n",
              "      <th>876</th>\n",
              "      <td>-0.482293</td>\n",
              "      <td>0.191506</td>\n",
              "      <td>3.078781</td>\n",
              "      <td>0.755235</td>\n",
              "      <td>-0.080588</td>\n",
              "      <td>3.663208</td>\n",
              "      <td>-0.211098</td>\n",
              "    </tr>\n",
              "    <tr>\n",
              "      <th>877</th>\n",
              "      <td>-1.245941</td>\n",
              "      <td>0.388137</td>\n",
              "      <td>-0.196462</td>\n",
              "      <td>-0.498105</td>\n",
              "      <td>-0.245976</td>\n",
              "      <td>0.664680</td>\n",
              "      <td>-0.706114</td>\n",
              "    </tr>\n",
              "    <tr>\n",
              "      <th>878</th>\n",
              "      <td>0.555716</td>\n",
              "      <td>0.915166</td>\n",
              "      <td>0.769429</td>\n",
              "      <td>1.197645</td>\n",
              "      <td>0.989841</td>\n",
              "      <td>1.087978</td>\n",
              "      <td>-0.239582</td>\n",
              "    </tr>\n",
              "    <tr>\n",
              "      <th>879</th>\n",
              "      <td>1.443032</td>\n",
              "      <td>-0.435514</td>\n",
              "      <td>0.888113</td>\n",
              "      <td>-0.323377</td>\n",
              "      <td>-0.245976</td>\n",
              "      <td>-0.634642</td>\n",
              "      <td>1.481284</td>\n",
              "    </tr>\n",
              "  </tbody>\n",
              "</table>\n",
              "<p>880 rows × 7 columns</p>\n",
              "</div>"
            ],
            "text/plain": [
              "     Pregnancies   Glucose  BloodPressure  ...   Insulin       BMI       Age\n",
              "0      -0.339089 -0.064669      -1.297049  ... -0.601447 -0.237273 -0.889283\n",
              "1      -0.036805  0.667986      -1.125413  ...  2.206905 -0.341270 -0.440616\n",
              "2       0.265478  0.540568       0.762589  ...  1.835025 -0.177845  2.161651\n",
              "3       0.265478 -1.243288      -0.610503  ... -1.117482 -1.306960 -0.350883\n",
              "4       1.172330  0.190168      -0.095594  ... -0.245976 -0.044134  0.456717\n",
              "..           ...       ...            ...  ...       ...       ...       ...\n",
              "875     0.781676  1.901002      -0.355239  ...  2.019488  0.658856  0.548741\n",
              "876    -0.482293  0.191506       3.078781  ... -0.080588  3.663208 -0.211098\n",
              "877    -1.245941  0.388137      -0.196462  ... -0.245976  0.664680 -0.706114\n",
              "878     0.555716  0.915166       0.769429  ...  0.989841  1.087978 -0.239582\n",
              "879     1.443032 -0.435514       0.888113  ... -0.245976 -0.634642  1.481284\n",
              "\n",
              "[880 rows x 7 columns]"
            ]
          },
          "metadata": {
            "tags": []
          },
          "execution_count": 566
        }
      ]
    },
    {
      "cell_type": "markdown",
      "metadata": {
        "id": "lV8aBEuKPp9U"
      },
      "source": [
        "Ok, now that our variables was briefly analysed, preprocessed, splitted and standardized, we can proceed applying classification models on that."
      ]
    },
    {
      "cell_type": "markdown",
      "metadata": {
        "id": "rXhvWEz_P7r_"
      },
      "source": [
        "# Stressing ML models \r\n",
        "## 7.1 SVC with Radial Basis Function/Gaussian Kernel"
      ]
    },
    {
      "cell_type": "markdown",
      "metadata": {
        "id": "BbuR3ncKda-E"
      },
      "source": [
        "As we´ve a simple dataset, with few variables and small number of samples, we can try a SVC model with rbf kernel. As I´ll deploy the model after on a web application, I´ll need to use probabilities prediction, In a way that dealing with diabetes diagnosis predictive model <b>I cannot diagnose a patient using a ML model alone, cause that´s doctor´s work, not mine</b>\r\n",
        "\r\n",
        "<b>But I truly can help people predicting the likelihood of them developing diabetes in the future with their clinical measures. This way, one can have an overview of their possibility of developing diabetes in the future and consequently search for medical care before they get ill. That´s the crucial benefit of this study."
      ]
    },
    {
      "cell_type": "code",
      "metadata": {
        "id": "gmExnXU4aUqG"
      },
      "source": [
        "from sklearn.svm import SVC"
      ],
      "execution_count": null,
      "outputs": []
    },
    {
      "cell_type": "code",
      "metadata": {
        "id": "hBM1HGuXaVub"
      },
      "source": [
        "svc = SVC(kernel='rbf', probability=True)"
      ],
      "execution_count": null,
      "outputs": []
    },
    {
      "cell_type": "code",
      "metadata": {
        "colab": {
          "base_uri": "https://localhost:8080/"
        },
        "id": "tMaLwZSVarZm",
        "outputId": "1429e33f-21c7-4427-8a18-bbe0ef39e614"
      },
      "source": [
        "svc.fit(X_std, y_res)"
      ],
      "execution_count": null,
      "outputs": [
        {
          "output_type": "execute_result",
          "data": {
            "text/plain": [
              "SVC(C=1.0, break_ties=False, cache_size=200, class_weight=None, coef0=0.0,\n",
              "    decision_function_shape='ovr', degree=3, gamma='scale', kernel='rbf',\n",
              "    max_iter=-1, probability=True, random_state=None, shrinking=True, tol=0.001,\n",
              "    verbose=False)"
            ]
          },
          "metadata": {
            "tags": []
          },
          "execution_count": 582
        }
      ]
    },
    {
      "cell_type": "code",
      "metadata": {
        "id": "BgzzJOmSazJA"
      },
      "source": [
        "pred = svc.predict(X_test_std)\r\n",
        "probs = svc.predict_proba(X_test_std)\r\n",
        "probs_df = pd.DataFrame(probs, columns = ['Neg', 'Pos'])"
      ],
      "execution_count": null,
      "outputs": []
    },
    {
      "cell_type": "markdown",
      "metadata": {
        "id": "ojoH8g5rRRnD"
      },
      "source": [
        "After fitting on training set and getting predictions on the test set, we´re allowed to measure results. "
      ]
    },
    {
      "cell_type": "code",
      "metadata": {
        "id": "yd27UsQja4Tc"
      },
      "source": [
        "from sklearn import metrics as ms"
      ],
      "execution_count": null,
      "outputs": []
    },
    {
      "cell_type": "markdown",
      "metadata": {
        "id": "-mWy7YnbRaYs"
      },
      "source": [
        "The main goal is to prevent any new diabetes case. With that said, we´re not interested in <b>accuracy</b>, instead, we must <b>prioritize precision, recall (also known by doctors as sensibility) and f1-score for POSITIVE Outcomes, aka Outcome = 1</b>"
      ]
    },
    {
      "cell_type": "code",
      "metadata": {
        "colab": {
          "base_uri": "https://localhost:8080/"
        },
        "id": "gLyfFf3Ba6Cf",
        "outputId": "51481ec6-8460-4001-9513-31e4e2cb6d16"
      },
      "source": [
        "print (ms.classification_report(y_test, pred))"
      ],
      "execution_count": null,
      "outputs": [
        {
          "output_type": "stream",
          "text": [
            "              precision    recall  f1-score   support\n",
            "\n",
            "           0       0.88      0.79      0.84        48\n",
            "           1       0.71      0.83      0.76        29\n",
            "\n",
            "    accuracy                           0.81        77\n",
            "   macro avg       0.79      0.81      0.80        77\n",
            "weighted avg       0.82      0.81      0.81        77\n",
            "\n"
          ],
          "name": "stdout"
        }
      ]
    },
    {
      "cell_type": "markdown",
      "metadata": {
        "id": "8Z701jLVR929"
      },
      "source": [
        "As seen from classification report above, the model show pretty good recall from positive and negative Outcomes. F1-scores were pretty decent by the way."
      ]
    },
    {
      "cell_type": "markdown",
      "metadata": {
        "id": "0pC_NKOrSh2h"
      },
      "source": [
        "Let´s plot a confusion matrix to see the true and predicted outcomes from the test set"
      ]
    },
    {
      "cell_type": "code",
      "metadata": {
        "colab": {
          "base_uri": "https://localhost:8080/",
          "height": 106
        },
        "id": "8-ZY_fz8a9nB",
        "outputId": "60db0ad7-f100-4f9a-e0c2-a27af0a149b9"
      },
      "source": [
        "pd.DataFrame(ms.confusion_matrix(y_test, pred), index=['Neg', 'Pos'], columns=['Pred Neg', 'Pred Pos'])"
      ],
      "execution_count": null,
      "outputs": [
        {
          "output_type": "execute_result",
          "data": {
            "text/html": [
              "<div>\n",
              "<style scoped>\n",
              "    .dataframe tbody tr th:only-of-type {\n",
              "        vertical-align: middle;\n",
              "    }\n",
              "\n",
              "    .dataframe tbody tr th {\n",
              "        vertical-align: top;\n",
              "    }\n",
              "\n",
              "    .dataframe thead th {\n",
              "        text-align: right;\n",
              "    }\n",
              "</style>\n",
              "<table border=\"1\" class=\"dataframe\">\n",
              "  <thead>\n",
              "    <tr style=\"text-align: right;\">\n",
              "      <th></th>\n",
              "      <th>Pred Neg</th>\n",
              "      <th>Pred Pos</th>\n",
              "    </tr>\n",
              "  </thead>\n",
              "  <tbody>\n",
              "    <tr>\n",
              "      <th>Neg</th>\n",
              "      <td>38</td>\n",
              "      <td>10</td>\n",
              "    </tr>\n",
              "    <tr>\n",
              "      <th>Pos</th>\n",
              "      <td>5</td>\n",
              "      <td>24</td>\n",
              "    </tr>\n",
              "  </tbody>\n",
              "</table>\n",
              "</div>"
            ],
            "text/plain": [
              "     Pred Neg  Pred Pos\n",
              "Neg        38        10\n",
              "Pos         5        24"
            ]
          },
          "metadata": {
            "tags": []
          },
          "execution_count": 586
        }
      ]
    },
    {
      "cell_type": "markdown",
      "metadata": {
        "id": "cNFjs4AYSqQi"
      },
      "source": [
        "We should not lose sleeping nights with the False Positives, as our final objective is spit a probability of developing diabetes in the future and after that recommend or not medical advise about it. <b>There´s really no damage in visiting a doctor with a healthy status</b>"
      ]
    },
    {
      "cell_type": "markdown",
      "metadata": {
        "id": "TIRsyXf_0u42"
      },
      "source": [
        "## 7.2 Logistic Regression"
      ]
    },
    {
      "cell_type": "markdown",
      "metadata": {
        "id": "cxvuMfOV1S_8"
      },
      "source": [
        "We expect Logistic Classifier to perform worse than SVC. That´s because a hyperplane can adjust better a non linear distribution of Outcomes"
      ]
    },
    {
      "cell_type": "code",
      "metadata": {
        "id": "JjMX1Upm0t18"
      },
      "source": [
        "from sklearn.linear_model import LogisticRegression\r\n",
        "\r\n",
        "logmodel = LogisticRegression()\r\n",
        "logmodel.fit(X_std, y_res)\r\n",
        "\r\n",
        "logmodel_pred = logmodel.predict(X_test_std)"
      ],
      "execution_count": null,
      "outputs": []
    },
    {
      "cell_type": "code",
      "metadata": {
        "colab": {
          "base_uri": "https://localhost:8080/"
        },
        "id": "5OhZQSr31E4f",
        "outputId": "d6ebd825-285e-4430-a97d-6b2ccbb31ecd"
      },
      "source": [
        "print (ms.classification_report(y_test, logmodel_pred))"
      ],
      "execution_count": null,
      "outputs": [
        {
          "output_type": "stream",
          "text": [
            "              precision    recall  f1-score   support\n",
            "\n",
            "           0       0.82      0.83      0.82        48\n",
            "           1       0.71      0.69      0.70        29\n",
            "\n",
            "    accuracy                           0.78        77\n",
            "   macro avg       0.77      0.76      0.76        77\n",
            "weighted avg       0.78      0.78      0.78        77\n",
            "\n"
          ],
          "name": "stdout"
        }
      ]
    },
    {
      "cell_type": "code",
      "metadata": {
        "colab": {
          "base_uri": "https://localhost:8080/",
          "height": 106
        },
        "id": "FWKxPVzQ1FJO",
        "outputId": "ac013aee-1239-4009-f250-9223f4cda467"
      },
      "source": [
        "pd.DataFrame(ms.confusion_matrix(y_test, logmodel_pred), index=['Neg', 'Pos'], columns=['Pred Neg', 'Pred Pos'])"
      ],
      "execution_count": null,
      "outputs": [
        {
          "output_type": "execute_result",
          "data": {
            "text/html": [
              "<div>\n",
              "<style scoped>\n",
              "    .dataframe tbody tr th:only-of-type {\n",
              "        vertical-align: middle;\n",
              "    }\n",
              "\n",
              "    .dataframe tbody tr th {\n",
              "        vertical-align: top;\n",
              "    }\n",
              "\n",
              "    .dataframe thead th {\n",
              "        text-align: right;\n",
              "    }\n",
              "</style>\n",
              "<table border=\"1\" class=\"dataframe\">\n",
              "  <thead>\n",
              "    <tr style=\"text-align: right;\">\n",
              "      <th></th>\n",
              "      <th>Pred Neg</th>\n",
              "      <th>Pred Pos</th>\n",
              "    </tr>\n",
              "  </thead>\n",
              "  <tbody>\n",
              "    <tr>\n",
              "      <th>Neg</th>\n",
              "      <td>40</td>\n",
              "      <td>8</td>\n",
              "    </tr>\n",
              "    <tr>\n",
              "      <th>Pos</th>\n",
              "      <td>9</td>\n",
              "      <td>20</td>\n",
              "    </tr>\n",
              "  </tbody>\n",
              "</table>\n",
              "</div>"
            ],
            "text/plain": [
              "     Pred Neg  Pred Pos\n",
              "Neg        40         8\n",
              "Pos         9        20"
            ]
          },
          "metadata": {
            "tags": []
          },
          "execution_count": 589
        }
      ]
    },
    {
      "cell_type": "markdown",
      "metadata": {
        "id": "k5eigAlB1lxg"
      },
      "source": [
        "As expected before fitting this model, it yielded more False Negatives that´s our most import target metric to reduce"
      ]
    },
    {
      "cell_type": "markdown",
      "metadata": {
        "id": "wAxJdHLD1x1x"
      },
      "source": [
        "## 7.3 Random Forest Classifier"
      ]
    },
    {
      "cell_type": "markdown",
      "metadata": {
        "id": "z7_FGm3v11xE"
      },
      "source": [
        "This model is a strong candidate to overcome SVC results, cause models based on trees decision tend to handle datasets with outliers much more efficient than distance calculator algorithms"
      ]
    },
    {
      "cell_type": "code",
      "metadata": {
        "id": "SOZWbsV01wMk"
      },
      "source": [
        "from sklearn.ensemble import RandomForestClassifier"
      ],
      "execution_count": null,
      "outputs": []
    },
    {
      "cell_type": "code",
      "metadata": {
        "id": "KCe5OM4O1wkX"
      },
      "source": [
        "rfc = RandomForestClassifier(n_estimators=1000, bootstrap=True, max_depth=3)"
      ],
      "execution_count": null,
      "outputs": []
    },
    {
      "cell_type": "code",
      "metadata": {
        "colab": {
          "base_uri": "https://localhost:8080/"
        },
        "id": "DhMdTecn1wvD",
        "outputId": "1ef02717-46b9-4aba-ea2d-4e8a1997fe78"
      },
      "source": [
        "rfc.fit(X_std, y_res)"
      ],
      "execution_count": null,
      "outputs": [
        {
          "output_type": "execute_result",
          "data": {
            "text/plain": [
              "RandomForestClassifier(bootstrap=True, ccp_alpha=0.0, class_weight=None,\n",
              "                       criterion='gini', max_depth=3, max_features='auto',\n",
              "                       max_leaf_nodes=None, max_samples=None,\n",
              "                       min_impurity_decrease=0.0, min_impurity_split=None,\n",
              "                       min_samples_leaf=1, min_samples_split=2,\n",
              "                       min_weight_fraction_leaf=0.0, n_estimators=1000,\n",
              "                       n_jobs=None, oob_score=False, random_state=None,\n",
              "                       verbose=0, warm_start=False)"
            ]
          },
          "metadata": {
            "tags": []
          },
          "execution_count": 612
        }
      ]
    },
    {
      "cell_type": "code",
      "metadata": {
        "id": "6hPp5n5H1w4p"
      },
      "source": [
        "rfc_pred = rfc.predict(X_test_std)"
      ],
      "execution_count": null,
      "outputs": []
    },
    {
      "cell_type": "code",
      "metadata": {
        "colab": {
          "base_uri": "https://localhost:8080/"
        },
        "id": "foEJe4X_1xAt",
        "outputId": "bee69474-8bf1-4c81-a92f-49489aca3711"
      },
      "source": [
        "print (ms.classification_report(y_test, rfc_pred))"
      ],
      "execution_count": null,
      "outputs": [
        {
          "output_type": "stream",
          "text": [
            "              precision    recall  f1-score   support\n",
            "\n",
            "           0       0.98      0.83      0.90        48\n",
            "           1       0.78      0.97      0.86        29\n",
            "\n",
            "    accuracy                           0.88        77\n",
            "   macro avg       0.88      0.90      0.88        77\n",
            "weighted avg       0.90      0.88      0.88        77\n",
            "\n"
          ],
          "name": "stdout"
        }
      ]
    },
    {
      "cell_type": "code",
      "metadata": {
        "colab": {
          "base_uri": "https://localhost:8080/",
          "height": 106
        },
        "id": "CiU2TsdJ2i8L",
        "outputId": "1877364f-c1ca-40e4-c224-1a62c113e8ca"
      },
      "source": [
        "pd.DataFrame(ms.confusion_matrix(y_test, rfc_pred), index=['Neg', 'Pos'], columns=['Pred Neg', 'Pred Pos'])"
      ],
      "execution_count": null,
      "outputs": [
        {
          "output_type": "execute_result",
          "data": {
            "text/html": [
              "<div>\n",
              "<style scoped>\n",
              "    .dataframe tbody tr th:only-of-type {\n",
              "        vertical-align: middle;\n",
              "    }\n",
              "\n",
              "    .dataframe tbody tr th {\n",
              "        vertical-align: top;\n",
              "    }\n",
              "\n",
              "    .dataframe thead th {\n",
              "        text-align: right;\n",
              "    }\n",
              "</style>\n",
              "<table border=\"1\" class=\"dataframe\">\n",
              "  <thead>\n",
              "    <tr style=\"text-align: right;\">\n",
              "      <th></th>\n",
              "      <th>Pred Neg</th>\n",
              "      <th>Pred Pos</th>\n",
              "    </tr>\n",
              "  </thead>\n",
              "  <tbody>\n",
              "    <tr>\n",
              "      <th>Neg</th>\n",
              "      <td>40</td>\n",
              "      <td>8</td>\n",
              "    </tr>\n",
              "    <tr>\n",
              "      <th>Pos</th>\n",
              "      <td>1</td>\n",
              "      <td>28</td>\n",
              "    </tr>\n",
              "  </tbody>\n",
              "</table>\n",
              "</div>"
            ],
            "text/plain": [
              "     Pred Neg  Pred Pos\n",
              "Neg        40         8\n",
              "Pos         1        28"
            ]
          },
          "metadata": {
            "tags": []
          },
          "execution_count": 615
        }
      ]
    },
    {
      "cell_type": "markdown",
      "metadata": {
        "id": "Wjv_yjat29x9"
      },
      "source": [
        "As I expected, when I set a large Forest with 1000 estimators and at the same time simplified the architecture by controlling the depth, it got a much better model compared with SVC and Logistic Regression. Let´s try Naive-Bayes, but I think it´s a big deal to beat Random Forest in this case!"
      ]
    },
    {
      "cell_type": "markdown",
      "metadata": {
        "id": "mtNaQn_K47Br"
      },
      "source": [
        "## 7.4 Naive-Bayes Classifier"
      ]
    },
    {
      "cell_type": "code",
      "metadata": {
        "id": "xt8qrPAQ2jIr"
      },
      "source": [
        "from sklearn.naive_bayes import GaussianNB"
      ],
      "execution_count": 616,
      "outputs": []
    },
    {
      "cell_type": "code",
      "metadata": {
        "id": "MrMnc9_85QQd"
      },
      "source": [
        "nb = GaussianNB()"
      ],
      "execution_count": 617,
      "outputs": []
    },
    {
      "cell_type": "code",
      "metadata": {
        "colab": {
          "base_uri": "https://localhost:8080/"
        },
        "id": "th6kW0725Q7W",
        "outputId": "9fb49507-84ca-460b-c412-8cff03d5533e"
      },
      "source": [
        "nb.fit(X_std, y_res)"
      ],
      "execution_count": 618,
      "outputs": [
        {
          "output_type": "execute_result",
          "data": {
            "text/plain": [
              "GaussianNB(priors=None, var_smoothing=1e-09)"
            ]
          },
          "metadata": {
            "tags": []
          },
          "execution_count": 618
        }
      ]
    },
    {
      "cell_type": "code",
      "metadata": {
        "id": "j6ybY62F5RG_"
      },
      "source": [
        "nb_pred = nb.predict(X_test_std)"
      ],
      "execution_count": 619,
      "outputs": []
    },
    {
      "cell_type": "code",
      "metadata": {
        "colab": {
          "base_uri": "https://localhost:8080/"
        },
        "id": "sA5VmL6v5RPx",
        "outputId": "069e53f8-338f-493b-8dae-b829863d5467"
      },
      "source": [
        "print (ms.classification_report(y_test, nb_pred))"
      ],
      "execution_count": 620,
      "outputs": [
        {
          "output_type": "stream",
          "text": [
            "              precision    recall  f1-score   support\n",
            "\n",
            "           0       0.82      0.85      0.84        48\n",
            "           1       0.74      0.69      0.71        29\n",
            "\n",
            "    accuracy                           0.79        77\n",
            "   macro avg       0.78      0.77      0.78        77\n",
            "weighted avg       0.79      0.79      0.79        77\n",
            "\n"
          ],
          "name": "stdout"
        }
      ]
    },
    {
      "cell_type": "code",
      "metadata": {
        "colab": {
          "base_uri": "https://localhost:8080/",
          "height": 106
        },
        "id": "rPXMO0qD5aXV",
        "outputId": "609d3911-bd95-4b93-86b1-388deabb9001"
      },
      "source": [
        "pd.DataFrame(ms.confusion_matrix(y_test, nb_pred), index=['Neg', 'Pos'], columns=['Pred Neg', 'Pred Pos'])"
      ],
      "execution_count": 621,
      "outputs": [
        {
          "output_type": "execute_result",
          "data": {
            "text/html": [
              "<div>\n",
              "<style scoped>\n",
              "    .dataframe tbody tr th:only-of-type {\n",
              "        vertical-align: middle;\n",
              "    }\n",
              "\n",
              "    .dataframe tbody tr th {\n",
              "        vertical-align: top;\n",
              "    }\n",
              "\n",
              "    .dataframe thead th {\n",
              "        text-align: right;\n",
              "    }\n",
              "</style>\n",
              "<table border=\"1\" class=\"dataframe\">\n",
              "  <thead>\n",
              "    <tr style=\"text-align: right;\">\n",
              "      <th></th>\n",
              "      <th>Pred Neg</th>\n",
              "      <th>Pred Pos</th>\n",
              "    </tr>\n",
              "  </thead>\n",
              "  <tbody>\n",
              "    <tr>\n",
              "      <th>Neg</th>\n",
              "      <td>41</td>\n",
              "      <td>7</td>\n",
              "    </tr>\n",
              "    <tr>\n",
              "      <th>Pos</th>\n",
              "      <td>9</td>\n",
              "      <td>20</td>\n",
              "    </tr>\n",
              "  </tbody>\n",
              "</table>\n",
              "</div>"
            ],
            "text/plain": [
              "     Pred Neg  Pred Pos\n",
              "Neg        41         7\n",
              "Pos         9        20"
            ]
          },
          "metadata": {
            "tags": []
          },
          "execution_count": 621
        }
      ]
    },
    {
      "cell_type": "markdown",
      "metadata": {
        "id": "J9w76PF95kzN"
      },
      "source": [
        "The Naive-Bayes classifier did better than Logistic Regression but worse than SVC and Random Forest models. From the 4 models applyied to this dataset, the better one was clearly the <b>Random Forest</b>"
      ]
    },
    {
      "cell_type": "markdown",
      "metadata": {
        "id": "KWGtXH3-Zf6M"
      },
      "source": [
        "# 8. ROC Curve Analysis"
      ]
    },
    {
      "cell_type": "markdown",
      "metadata": {
        "id": "Ri57H37rZjLG"
      },
      "source": [
        "One of the most important ways to grasp a classification problem dealing with disease or some other medical issue is looking at the Receiver Operating Characteristics curve. It clearly gives us the tradeoff background of achieving better True Positive Values and turning False Positive Rate larger. \r\n",
        "\r\n",
        "For a generalized disease classification model, we can have a good clue in mind: when we´re dealing with a healthy critical disease, like cancer or stroke, we must be more tolerant with False Positives and try with best efforts to reduced False Negatives. Since Diabetes is a high cost disease in a way that it increases the probability of many fatal outcomes, we´ll also need to reduce False Negatives to the limit."
      ]
    },
    {
      "cell_type": "markdown",
      "metadata": {
        "id": "IbrJcnA66lPT"
      },
      "source": [
        "<b>Let´s evaluate ROC curves in order</b>:\r\n",
        "\r\n",
        "1.   SVC\r\n",
        "2.   Logistic Regression\r\n",
        "3.   Random Forest\r\n",
        "4.   Naive-Bayes\r\n",
        "\r\n",
        "\r\n",
        "\r\n"
      ]
    },
    {
      "cell_type": "markdown",
      "metadata": {
        "id": "vRcYn5cL7Dsg"
      },
      "source": [
        "### Getting the probabilities from predictions"
      ]
    },
    {
      "cell_type": "code",
      "metadata": {
        "id": "kTtWlUp38DIF"
      },
      "source": [
        "r_probs = [0 for _ in range(len(y_test))] #random probabilities\r\n",
        "nb_probs = nb.predict_proba(X_test_std)\r\n",
        "rfc_probs = rfc.predict_proba(X_test_std)\r\n",
        "logmodel_probs = logmodel.predict_proba(X_test_std)\r\n",
        "svc_probs = svc.decision_function(X_test_std)"
      ],
      "execution_count": 639,
      "outputs": []
    },
    {
      "cell_type": "code",
      "metadata": {
        "id": "eoMy1nKm8C9m"
      },
      "source": [
        "nb_probs = nb_probs[:,1]\r\n",
        "rfc_probs = rfc_probs[:,1]\r\n",
        "logmodel_probs = logmodel_probs[:,1]"
      ],
      "execution_count": 630,
      "outputs": []
    },
    {
      "cell_type": "markdown",
      "metadata": {
        "id": "AWQeCrl_9dTl"
      },
      "source": [
        "### AUC scores from each one of them"
      ]
    },
    {
      "cell_type": "code",
      "metadata": {
        "id": "taLRapfF8CwS"
      },
      "source": [
        "r_auc = ms.roc_auc_score(y_test, r_probs)\r\n",
        "rfc_auc = ms.roc_auc_score(y_test, rfc_probs)\r\n",
        "nb_auc = ms.roc_auc_score(y_test, nb_probs)\r\n",
        "logmodel_auc = ms.roc_auc_score(y_test, logmodel_probs)\r\n",
        "svc_auc = ms.roc_auc_score(y_test, svc_probs)"
      ],
      "execution_count": 632,
      "outputs": []
    },
    {
      "cell_type": "code",
      "metadata": {
        "colab": {
          "base_uri": "https://localhost:8080/"
        },
        "id": "Zgu3D99c8RP7",
        "outputId": "a485ec0e-5fb5-46c3-8a42-aef94ad91f68"
      },
      "source": [
        "print ('Random Prediction: AUC = %.3f' % r_auc)\r\n",
        "print ('Random Forest prediction: AUC = %.3f' % rfc_auc)\r\n",
        "print ('Naive Bayes prediction: AUC = %.3f' % nb_auc)\r\n",
        "print ('Logistic Regression prediction: AUC = %.3f' % logmodel_auc)\r\n",
        "print ('SVC prediction: AUC = %.3f' % svc_auc)"
      ],
      "execution_count": 637,
      "outputs": [
        {
          "output_type": "stream",
          "text": [
            "Random Prediction: AUC = 0.500\n",
            "Random Forest prediction: AUC = 0.958\n",
            "Naive Bayes prediction: AUC = 0.890\n",
            "Logistic Regression prediction: AUC = 0.886\n",
            "SVC prediction: AUC = 0.890\n"
          ],
          "name": "stdout"
        }
      ]
    },
    {
      "cell_type": "markdown",
      "metadata": {
        "id": "70bTwWl49o50"
      },
      "source": [
        "### False Positive Rates and True Positive Rates to plot ROC´s"
      ]
    },
    {
      "cell_type": "code",
      "metadata": {
        "id": "T0QzLYAI8ReT"
      },
      "source": [
        "r_fpr, r_tpr, _ = ms.roc_curve(y_test, r_probs)\r\n",
        "rfc_fpr, rfc_tpr, _ = ms.roc_curve(y_test, rfc_probs)\r\n",
        "nb_fpr, nb_tpr, _ = ms.roc_curve(y_test, nb_probs)\r\n",
        "logmodel_fpr, logmodel_tpr, _ = ms.roc_curve(y_test, logmodel_probs)\r\n",
        "svc_fpr, svc_tpr, _ = ms.roc_curve(y_test, svc_probs)"
      ],
      "execution_count": 635,
      "outputs": []
    },
    {
      "cell_type": "markdown",
      "metadata": {
        "id": "JZKmQkmN9yCV"
      },
      "source": [
        "### Plotting all of the ROC curves on a graph"
      ]
    },
    {
      "cell_type": "code",
      "metadata": {
        "colab": {
          "base_uri": "https://localhost:8080/",
          "height": 352
        },
        "id": "tIxNs4bf8COC",
        "outputId": "dbd0bd83-3735-43a6-e2a8-b0a2cebccd45"
      },
      "source": [
        "plt.figure(figsize=(12,5))\r\n",
        "plt.plot(r_fpr, r_tpr, linestyle='-', label='Random Prediction: (AUC = %.3f)' % r_auc)\r\n",
        "plt.plot(rfc_fpr, rfc_tpr, marker='.', label='Random Forest: (AUC = %.3f)' % rfc_auc)\r\n",
        "plt.plot(nb_fpr, nb_tpr, marker=',', label='Naive Bayes: (AUC = %.3f)' % nb_auc)\r\n",
        "plt.plot(logmodel_fpr, logmodel_tpr, marker='.', label='Logistic Regression: (AUC = %.3f)' % logmodel_auc)\r\n",
        "plt.plot(svc_fpr, svc_tpr, marker='.', label='SVC: (AUC = %.3f)' % svc_auc)\r\n",
        "plt.title('ROC')\r\n",
        "plt.ylabel('True positive rate')\r\n",
        "plt.xlabel('False positive rate')\r\n",
        "plt.legend()\r\n",
        "plt.show()"
      ],
      "execution_count": 638,
      "outputs": [
        {
          "output_type": "display_data",
          "data": {
            "image/png": "[encoded data removed]",
            "text/plain": [
              "<Figure size 864x360 with 1 Axes>"
            ]
          },
          "metadata": {
            "tags": [],
            "needs_background": "light"
          }
        }
      ]
    },
    {
      "cell_type": "markdown",
      "metadata": {
        "id": "rpqre0ISAAnG"
      },
      "source": [
        "As seen above, Random Forest classifier overcome all of the other methods with great advantage. Choosing a FPR lower than 20%, we can do predictions with precision close to 100%. If this model could be implemented on a Brazilian database, using national patients, we could get pretty good, widely available and <b>cost zero</b> predictions of Diabetes future onset on our population, as the results we got in this database.\r\n"
      ]
    },
    {
      "cell_type": "markdown",
      "metadata": {
        "id": "ByKjcR6kAAh8"
      },
      "source": [
        "<b>Diabetes is one of the most expensive diseases in brazilian public healthcare system</b>. Every year it takes a lot of lives due to complications and has a massive direct financial outgoing with hospitalization as well as indirect lost with ill-founded people that are deemed to stop working."
      ]
    },
    {
      "cell_type": "markdown",
      "metadata": {
        "id": "nXkd6hRQcJLY"
      },
      "source": [
        "# 9. Getting Pickle Files from the Standardizing method and trained SVC model"
      ]
    },
    {
      "cell_type": "code",
      "metadata": {
        "id": "4_oGrbi2qR0r"
      },
      "source": [
        "import pickle"
      ],
      "execution_count": 640,
      "outputs": []
    },
    {
      "cell_type": "code",
      "metadata": {
        "id": "FbeoEtiIrjwF"
      },
      "source": [
        "pickle.dump(rfc, open('randomforest.pkl', 'wb'))\r\n",
        "pickle.dump(std, open('standardizer.pkl', 'wb'))"
      ],
      "execution_count": 642,
      "outputs": []
    },
    {
      "cell_type": "markdown",
      "metadata": {
        "id": "Jvch1iKBs0NS"
      },
      "source": [
        "# 10. Deploying the Diabetes Predictor App\r\n",
        "Consult the Web App link of the deployed model to consult your patients likelihood of deve"
      ]
    }
  ]
}